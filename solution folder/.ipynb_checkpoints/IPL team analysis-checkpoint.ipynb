{
 "cells": [
  {
   "cell_type": "code",
   "execution_count": 1,
   "metadata": {},
   "outputs": [],
   "source": [
    "import pandas as pd\n",
    "import matplotlib.pyplot as plt\n",
    "import seaborn as sns"
   ]
  },
  {
   "cell_type": "code",
   "execution_count": 2,
   "metadata": {},
   "outputs": [],
   "source": [
    "###cleaning\n",
    "\n",
    "def clean_(df):\n",
    "    df.replace('-',np.nan,inplace=True)\n",
    "    df=df.fillna(0)\n",
    "    return df\n",
    "    "
   ]
  },
  {
   "cell_type": "markdown",
   "metadata": {},
   "source": [
    "#### Stats function"
   ]
  },
  {
   "cell_type": "code",
   "execution_count": 3,
   "metadata": {},
   "outputs": [],
   "source": [
    "def Batting_hand(df):\n",
    "    Batting_style=pd.DataFrame(round(df['Batting_style'].value_counts()/df['Batting_style'].value_counts().sum()*100,2))\n",
    "    Batting_style=Batting_style.reset_index()\n",
    "    plt.figure(figsize=(16,8))\n",
    "    # plot chart\n",
    "    ax1 = plt.subplot(121, aspect='equal')\n",
    "    Batting_style.plot(kind='pie', y = 'Batting_style', ax=ax1, autopct='%1.1f%%', \n",
    "     startangle=90, shadow=False, labels=Batting_style['index'], legend = False, fontsize=14)"
   ]
  },
  {
   "cell_type": "code",
   "execution_count": 4,
   "metadata": {},
   "outputs": [],
   "source": [
    "def skill_distribution(df):\n",
    "    skill=pd.DataFrame(round(df['Skill'].value_counts()/df['Skill'].value_counts().sum()*100,2))\n",
    "    skill=skill.reset_index()\n",
    "    plt.figure(figsize=(16,8))\n",
    "    # plot chart\n",
    "    ax1 = plt.subplot(121, aspect='equal')\n",
    "    skill.plot(kind='pie', y = 'Skill', ax=ax1, autopct='%1.1f%%', \n",
    "     startangle=90, shadow=False, labels=skill['index'], legend = False, fontsize=14)"
   ]
  },
  {
   "cell_type": "code",
   "execution_count": 5,
   "metadata": {},
   "outputs": [],
   "source": [
    "def Age_distribution(df):\n",
    "    plt.figure(figsize=(16,8))\n",
    "    df.Age.plot(kind='kde')\n",
    "    print(\"The average age of the team being \",round(df.Age.mean()))\n",
    "    print(\"Youngest player age of the team being\",df.Age.min())\n",
    "    print(\"most experienced player age of the team being \",df.Age.max())"
   ]
  },
  {
   "cell_type": "code",
   "execution_count": 6,
   "metadata": {},
   "outputs": [],
   "source": [
    "def Bowling_variation(df):\n",
    "    Bowling_style=pd.DataFrame(round(df['Bowling_style'].value_counts()/df['Bowling_style'].value_counts().sum()*100,2))\n",
    "    Bowling_style=Bowling_style.reset_index()\n",
    "    plt.figure(figsize=(16,8))\n",
    "    # plot chart\n",
    "    ax1 = plt.subplot(121, aspect='equal')\n",
    "    Bowling_style.plot(kind='pie', y = 'Bowling_style', ax=ax1, autopct='%1.1f%%', \n",
    "    startangle=90, shadow=False, labels=Bowling_style['index'], legend = False, fontsize=14)"
   ]
  },
  {
   "cell_type": "code",
   "execution_count": 7,
   "metadata": {},
   "outputs": [],
   "source": [
    "def most_match(df):\n",
    "    df['Mat_FC']=df['Mat_FC'].astype(int)\n",
    "    print(df[['name','Mat_FC']].nlargest(5, 'Mat_FC').set_index('name'))\n",
    "    \n",
    "def Most_runs(df):\n",
    "    df['Runs_FC']=df['Runs_FC'].astype(int)\n",
    "    print(df[['name','Runs_FC']].nlargest(5, 'Runs_FC').set_index('name'))\n",
    "    \n",
    "def Bat_strike(df):\n",
    "    df['Bat_SR_FC']=df['Bat_SR_FC'].astype(float)\n",
    "    print(df[['name','Bat_SR_FC']].nlargest(5, 'Bat_SR_FC').set_index('name'))\n"
   ]
  },
  {
   "cell_type": "code",
   "execution_count": 8,
   "metadata": {},
   "outputs": [],
   "source": [
    "def Bowling_Ave(df):\n",
    "    df['Bowl_Ave_FC']=df['Bowl_Ave_FC'].astype(float)\n",
    "    print(df[(df['Bowl_Ave_FC']>0) & ((df['Skill']=='Bowler') |(df['Skill']=='Allrounder'))][['name','Bowl_Ave_FC']].nsmallest(5, 'Bowl_Ave_FC').set_index('name'))\n",
    "def Most_Wks(df):\n",
    "    df['Wkts_FC']=df['Wkts_FC'].fillna(0).astype(int)\n",
    "    print(df[(df['Wkts_FC']>0) & ((df['Skill']=='Bowler') |(df['Skill']=='Allrounder'))][['name','Wkts_FC']].nlargest(5, 'Wkts_FC').set_index('name'))\n",
    "def Best_eco(df):\n",
    "    df['Econ_FC']=df['Econ_FC'].astype(float)\n",
    "    print(df[(df['Econ_FC']>0) & ((df['Skill']=='Bowler') |(df['Skill']=='Allrounder'))][['name','Econ_FC']].nsmallest(5, 'Econ_FC').set_index('name'))\n"
   ]
  },
  {
   "cell_type": "markdown",
   "metadata": {},
   "source": [
    "## Stats"
   ]
  },
  {
   "cell_type": "markdown",
   "metadata": {},
   "source": [
    "#### Chennai Super king stats"
   ]
  },
  {
   "cell_type": "code",
   "execution_count": 9,
   "metadata": {},
   "outputs": [
    {
     "ename": "FileNotFoundError",
     "evalue": "[Errno 2] File C:\\Users\\vinodhkumarb\\Desktop\\IPL\\csk.csv does not exist: 'C:\\\\Users\\\\vinodhkumarb\\\\Desktop\\\\IPL\\\\csk.csv'",
     "output_type": "error",
     "traceback": [
      "\u001b[1;31m---------------------------------------------------------------------------\u001b[0m",
      "\u001b[1;31mFileNotFoundError\u001b[0m                         Traceback (most recent call last)",
      "\u001b[1;32m<ipython-input-9-b2aa320d7c2e>\u001b[0m in \u001b[0;36m<module>\u001b[1;34m\u001b[0m\n\u001b[1;32m----> 1\u001b[1;33m \u001b[0mcsk\u001b[0m\u001b[1;33m=\u001b[0m\u001b[0mpd\u001b[0m\u001b[1;33m.\u001b[0m\u001b[0mread_csv\u001b[0m\u001b[1;33m(\u001b[0m\u001b[1;34mr'C:\\Users\\vinodhkumarb\\Desktop\\IPL\\csk.csv'\u001b[0m\u001b[1;33m)\u001b[0m\u001b[1;33m\u001b[0m\u001b[1;33m\u001b[0m\u001b[0m\n\u001b[0m\u001b[0;32m      2\u001b[0m \u001b[0mdf\u001b[0m\u001b[1;33m=\u001b[0m\u001b[0mclean_\u001b[0m\u001b[1;33m(\u001b[0m\u001b[0mcsk\u001b[0m\u001b[1;33m)\u001b[0m\u001b[1;33m\u001b[0m\u001b[1;33m\u001b[0m\u001b[0m\n",
      "\u001b[1;32m~\\Anaconda3\\lib\\site-packages\\pandas\\io\\parsers.py\u001b[0m in \u001b[0;36mparser_f\u001b[1;34m(filepath_or_buffer, sep, delimiter, header, names, index_col, usecols, squeeze, prefix, mangle_dupe_cols, dtype, engine, converters, true_values, false_values, skipinitialspace, skiprows, skipfooter, nrows, na_values, keep_default_na, na_filter, verbose, skip_blank_lines, parse_dates, infer_datetime_format, keep_date_col, date_parser, dayfirst, cache_dates, iterator, chunksize, compression, thousands, decimal, lineterminator, quotechar, quoting, doublequote, escapechar, comment, encoding, dialect, error_bad_lines, warn_bad_lines, delim_whitespace, low_memory, memory_map, float_precision)\u001b[0m\n\u001b[0;32m    674\u001b[0m         )\n\u001b[0;32m    675\u001b[0m \u001b[1;33m\u001b[0m\u001b[0m\n\u001b[1;32m--> 676\u001b[1;33m         \u001b[1;32mreturn\u001b[0m \u001b[0m_read\u001b[0m\u001b[1;33m(\u001b[0m\u001b[0mfilepath_or_buffer\u001b[0m\u001b[1;33m,\u001b[0m \u001b[0mkwds\u001b[0m\u001b[1;33m)\u001b[0m\u001b[1;33m\u001b[0m\u001b[1;33m\u001b[0m\u001b[0m\n\u001b[0m\u001b[0;32m    677\u001b[0m \u001b[1;33m\u001b[0m\u001b[0m\n\u001b[0;32m    678\u001b[0m     \u001b[0mparser_f\u001b[0m\u001b[1;33m.\u001b[0m\u001b[0m__name__\u001b[0m \u001b[1;33m=\u001b[0m \u001b[0mname\u001b[0m\u001b[1;33m\u001b[0m\u001b[1;33m\u001b[0m\u001b[0m\n",
      "\u001b[1;32m~\\Anaconda3\\lib\\site-packages\\pandas\\io\\parsers.py\u001b[0m in \u001b[0;36m_read\u001b[1;34m(filepath_or_buffer, kwds)\u001b[0m\n\u001b[0;32m    446\u001b[0m \u001b[1;33m\u001b[0m\u001b[0m\n\u001b[0;32m    447\u001b[0m     \u001b[1;31m# Create the parser.\u001b[0m\u001b[1;33m\u001b[0m\u001b[1;33m\u001b[0m\u001b[1;33m\u001b[0m\u001b[0m\n\u001b[1;32m--> 448\u001b[1;33m     \u001b[0mparser\u001b[0m \u001b[1;33m=\u001b[0m \u001b[0mTextFileReader\u001b[0m\u001b[1;33m(\u001b[0m\u001b[0mfp_or_buf\u001b[0m\u001b[1;33m,\u001b[0m \u001b[1;33m**\u001b[0m\u001b[0mkwds\u001b[0m\u001b[1;33m)\u001b[0m\u001b[1;33m\u001b[0m\u001b[1;33m\u001b[0m\u001b[0m\n\u001b[0m\u001b[0;32m    449\u001b[0m \u001b[1;33m\u001b[0m\u001b[0m\n\u001b[0;32m    450\u001b[0m     \u001b[1;32mif\u001b[0m \u001b[0mchunksize\u001b[0m \u001b[1;32mor\u001b[0m \u001b[0miterator\u001b[0m\u001b[1;33m:\u001b[0m\u001b[1;33m\u001b[0m\u001b[1;33m\u001b[0m\u001b[0m\n",
      "\u001b[1;32m~\\Anaconda3\\lib\\site-packages\\pandas\\io\\parsers.py\u001b[0m in \u001b[0;36m__init__\u001b[1;34m(self, f, engine, **kwds)\u001b[0m\n\u001b[0;32m    878\u001b[0m             \u001b[0mself\u001b[0m\u001b[1;33m.\u001b[0m\u001b[0moptions\u001b[0m\u001b[1;33m[\u001b[0m\u001b[1;34m\"has_index_names\"\u001b[0m\u001b[1;33m]\u001b[0m \u001b[1;33m=\u001b[0m \u001b[0mkwds\u001b[0m\u001b[1;33m[\u001b[0m\u001b[1;34m\"has_index_names\"\u001b[0m\u001b[1;33m]\u001b[0m\u001b[1;33m\u001b[0m\u001b[1;33m\u001b[0m\u001b[0m\n\u001b[0;32m    879\u001b[0m \u001b[1;33m\u001b[0m\u001b[0m\n\u001b[1;32m--> 880\u001b[1;33m         \u001b[0mself\u001b[0m\u001b[1;33m.\u001b[0m\u001b[0m_make_engine\u001b[0m\u001b[1;33m(\u001b[0m\u001b[0mself\u001b[0m\u001b[1;33m.\u001b[0m\u001b[0mengine\u001b[0m\u001b[1;33m)\u001b[0m\u001b[1;33m\u001b[0m\u001b[1;33m\u001b[0m\u001b[0m\n\u001b[0m\u001b[0;32m    881\u001b[0m \u001b[1;33m\u001b[0m\u001b[0m\n\u001b[0;32m    882\u001b[0m     \u001b[1;32mdef\u001b[0m \u001b[0mclose\u001b[0m\u001b[1;33m(\u001b[0m\u001b[0mself\u001b[0m\u001b[1;33m)\u001b[0m\u001b[1;33m:\u001b[0m\u001b[1;33m\u001b[0m\u001b[1;33m\u001b[0m\u001b[0m\n",
      "\u001b[1;32m~\\Anaconda3\\lib\\site-packages\\pandas\\io\\parsers.py\u001b[0m in \u001b[0;36m_make_engine\u001b[1;34m(self, engine)\u001b[0m\n\u001b[0;32m   1112\u001b[0m     \u001b[1;32mdef\u001b[0m \u001b[0m_make_engine\u001b[0m\u001b[1;33m(\u001b[0m\u001b[0mself\u001b[0m\u001b[1;33m,\u001b[0m \u001b[0mengine\u001b[0m\u001b[1;33m=\u001b[0m\u001b[1;34m\"c\"\u001b[0m\u001b[1;33m)\u001b[0m\u001b[1;33m:\u001b[0m\u001b[1;33m\u001b[0m\u001b[1;33m\u001b[0m\u001b[0m\n\u001b[0;32m   1113\u001b[0m         \u001b[1;32mif\u001b[0m \u001b[0mengine\u001b[0m \u001b[1;33m==\u001b[0m \u001b[1;34m\"c\"\u001b[0m\u001b[1;33m:\u001b[0m\u001b[1;33m\u001b[0m\u001b[1;33m\u001b[0m\u001b[0m\n\u001b[1;32m-> 1114\u001b[1;33m             \u001b[0mself\u001b[0m\u001b[1;33m.\u001b[0m\u001b[0m_engine\u001b[0m \u001b[1;33m=\u001b[0m \u001b[0mCParserWrapper\u001b[0m\u001b[1;33m(\u001b[0m\u001b[0mself\u001b[0m\u001b[1;33m.\u001b[0m\u001b[0mf\u001b[0m\u001b[1;33m,\u001b[0m \u001b[1;33m**\u001b[0m\u001b[0mself\u001b[0m\u001b[1;33m.\u001b[0m\u001b[0moptions\u001b[0m\u001b[1;33m)\u001b[0m\u001b[1;33m\u001b[0m\u001b[1;33m\u001b[0m\u001b[0m\n\u001b[0m\u001b[0;32m   1115\u001b[0m         \u001b[1;32melse\u001b[0m\u001b[1;33m:\u001b[0m\u001b[1;33m\u001b[0m\u001b[1;33m\u001b[0m\u001b[0m\n\u001b[0;32m   1116\u001b[0m             \u001b[1;32mif\u001b[0m \u001b[0mengine\u001b[0m \u001b[1;33m==\u001b[0m \u001b[1;34m\"python\"\u001b[0m\u001b[1;33m:\u001b[0m\u001b[1;33m\u001b[0m\u001b[1;33m\u001b[0m\u001b[0m\n",
      "\u001b[1;32m~\\Anaconda3\\lib\\site-packages\\pandas\\io\\parsers.py\u001b[0m in \u001b[0;36m__init__\u001b[1;34m(self, src, **kwds)\u001b[0m\n\u001b[0;32m   1889\u001b[0m         \u001b[0mkwds\u001b[0m\u001b[1;33m[\u001b[0m\u001b[1;34m\"usecols\"\u001b[0m\u001b[1;33m]\u001b[0m \u001b[1;33m=\u001b[0m \u001b[0mself\u001b[0m\u001b[1;33m.\u001b[0m\u001b[0musecols\u001b[0m\u001b[1;33m\u001b[0m\u001b[1;33m\u001b[0m\u001b[0m\n\u001b[0;32m   1890\u001b[0m \u001b[1;33m\u001b[0m\u001b[0m\n\u001b[1;32m-> 1891\u001b[1;33m         \u001b[0mself\u001b[0m\u001b[1;33m.\u001b[0m\u001b[0m_reader\u001b[0m \u001b[1;33m=\u001b[0m \u001b[0mparsers\u001b[0m\u001b[1;33m.\u001b[0m\u001b[0mTextReader\u001b[0m\u001b[1;33m(\u001b[0m\u001b[0msrc\u001b[0m\u001b[1;33m,\u001b[0m \u001b[1;33m**\u001b[0m\u001b[0mkwds\u001b[0m\u001b[1;33m)\u001b[0m\u001b[1;33m\u001b[0m\u001b[1;33m\u001b[0m\u001b[0m\n\u001b[0m\u001b[0;32m   1892\u001b[0m         \u001b[0mself\u001b[0m\u001b[1;33m.\u001b[0m\u001b[0munnamed_cols\u001b[0m \u001b[1;33m=\u001b[0m \u001b[0mself\u001b[0m\u001b[1;33m.\u001b[0m\u001b[0m_reader\u001b[0m\u001b[1;33m.\u001b[0m\u001b[0munnamed_cols\u001b[0m\u001b[1;33m\u001b[0m\u001b[1;33m\u001b[0m\u001b[0m\n\u001b[0;32m   1893\u001b[0m \u001b[1;33m\u001b[0m\u001b[0m\n",
      "\u001b[1;32mpandas\\_libs\\parsers.pyx\u001b[0m in \u001b[0;36mpandas._libs.parsers.TextReader.__cinit__\u001b[1;34m()\u001b[0m\n",
      "\u001b[1;32mpandas\\_libs\\parsers.pyx\u001b[0m in \u001b[0;36mpandas._libs.parsers.TextReader._setup_parser_source\u001b[1;34m()\u001b[0m\n",
      "\u001b[1;31mFileNotFoundError\u001b[0m: [Errno 2] File C:\\Users\\vinodhkumarb\\Desktop\\IPL\\csk.csv does not exist: 'C:\\\\Users\\\\vinodhkumarb\\\\Desktop\\\\IPL\\\\csk.csv'"
     ]
    }
   ],
   "source": [
    "csk=pd.read_csv(r'C:\\Users\\vinodhkumarb\\Desktop\\IPL\\csk.csv')\n",
    "df=clean_(csk)"
   ]
  },
  {
   "cell_type": "code",
   "execution_count": null,
   "metadata": {},
   "outputs": [],
   "source": [
    "print(\"Distribution of left and right hander in the team \")\n",
    "print(\"*\"*50)\n",
    "Batting_hand(df)\n",
    "\n",
    "print(\"Key skill distribution\")\n",
    "print(\"*\"*50)\n",
    "skill_distribution(df)\n",
    "\n",
    "print(\"Age factor\")\n",
    "print(\"*\"*50)\n",
    "Age_distribution(df)\n",
    "\n",
    "print(\"Bowling variety available\")\n",
    "print(\"*\"*50)\n",
    "Bowling_variation(df)"
   ]
  },
  {
   "cell_type": "code",
   "execution_count": null,
   "metadata": {},
   "outputs": [],
   "source": [
    "print(\"Most match played\")\n",
    "print(\"*\"*50)\n",
    "most_match(df)\n",
    "\n",
    "\n",
    "print(\"Top Run scorers\")\n",
    "print(\"*\"*50)\n",
    "Most_runs(df)\n",
    "\n",
    "\n",
    "print(\"Top best players with the best strikerate\")\n",
    "print(\"*\"*50)\n",
    "Bat_strike(df)\n",
    "\n",
    "\n",
    "print(\"Top 5 Best Bowling Average\")\n",
    "print(\"*\"*50)\n",
    "Bowling_Ave(df)\n",
    "\n",
    "\n",
    "print(\"Top 5 Best economy rate\")\n",
    "print(\"*\"*50)\n",
    "Best_eco(df)\n",
    "\n",
    "\n",
    "print(\"Top 5 most wicket in the team\")\n",
    "print(\"*\"*50)\n",
    "Most_Wks(df)"
   ]
  },
  {
   "cell_type": "markdown",
   "metadata": {},
   "source": [
    "#### Mumbai Indian"
   ]
  },
  {
   "cell_type": "code",
   "execution_count": null,
   "metadata": {},
   "outputs": [],
   "source": [
    "mi=pd.read_csv(r'C:\\Users\\vinodhkumarb\\Desktop\\IPL\\mi.csv')\n",
    "df=clean_(mi)"
   ]
  },
  {
   "cell_type": "code",
   "execution_count": null,
   "metadata": {},
   "outputs": [],
   "source": [
    "print(\"Distribution of left and right hander in the team \")\n",
    "print(\"*\"*50)\n",
    "Batting_hand(df)\n",
    "\n",
    "print(\"Key skill distribution\")\n",
    "print(\"*\"*50)\n",
    "skill_distribution(df)\n",
    "\n",
    "print(\"Age factor\")\n",
    "print(\"*\"*50)\n",
    "Age_distribution(df)\n",
    "\n",
    "print(\"Bowling variety available\")\n",
    "print(\"*\"*50)\n",
    "Bowling_variation(df)"
   ]
  },
  {
   "cell_type": "code",
   "execution_count": null,
   "metadata": {},
   "outputs": [],
   "source": [
    "print(\"Most match played\")\n",
    "print(\"*\"*50)\n",
    "most_match(df)\n",
    "\n",
    "\n",
    "print(\"Top Run scorers\")\n",
    "print(\"*\"*50)\n",
    "Most_runs(df)\n",
    "\n",
    "\n",
    "print(\"Top best players with the best strikerate\")\n",
    "print(\"*\"*50)\n",
    "Bat_strike(df)\n",
    "\n",
    "\n",
    "print(\"Top 5 Best Bowling Average\")\n",
    "print(\"*\"*50)\n",
    "Bowling_Ave(df)\n",
    "\n",
    "\n",
    "print(\"Top 5 Best economy rate\")\n",
    "print(\"*\"*50)\n",
    "Best_eco(df)\n",
    "\n",
    "\n",
    "print(\"Top 5 most wicket in the team\")\n",
    "print(\"*\"*50)\n",
    "Most_Wks(df)"
   ]
  },
  {
   "cell_type": "markdown",
   "metadata": {},
   "source": [
    "#### Royal Challengers Bangalore"
   ]
  },
  {
   "cell_type": "code",
   "execution_count": null,
   "metadata": {},
   "outputs": [],
   "source": [
    "rcb=pd.read_csv(r'C:\\Users\\vinodhkumarb\\Desktop\\IPL\\rcb.csv')\n",
    "df=clean_(rcb)"
   ]
  },
  {
   "cell_type": "code",
   "execution_count": null,
   "metadata": {},
   "outputs": [],
   "source": [
    "print(\"Distribution of left and right hander in the team \")\n",
    "print(\"*\"*50)\n",
    "Batting_hand(df)\n",
    "\n",
    "print(\"Key skill distribution\")\n",
    "print(\"*\"*50)\n",
    "skill_distribution(df)\n",
    "\n",
    "print(\"Age factor\")\n",
    "print(\"*\"*50)\n",
    "Age_distribution(df)\n",
    "\n",
    "print(\"Bowling variety available\")\n",
    "print(\"*\"*50)\n",
    "Bowling_variation(df)"
   ]
  },
  {
   "cell_type": "code",
   "execution_count": null,
   "metadata": {},
   "outputs": [],
   "source": [
    "print(\"Most match played\")\n",
    "print(\"*\"*50)\n",
    "most_match(df)\n",
    "\n",
    "\n",
    "print(\"Top Run scorers\")\n",
    "print(\"*\"*50)\n",
    "Most_runs(df)\n",
    "\n",
    "\n",
    "print(\"Top best players with the best strikerate\")\n",
    "print(\"*\"*50)\n",
    "Bat_strike(df)\n",
    "\n",
    "\n",
    "print(\"Top 5 Best Bowling Average\")\n",
    "print(\"*\"*50)\n",
    "Bowling_Ave(df)\n",
    "\n",
    "\n",
    "print(\"Top 5 Best economy rate\")\n",
    "print(\"*\"*50)\n",
    "Best_eco(df)\n",
    "\n",
    "\n",
    "print(\"Top 5 most wicket in the team\")\n",
    "print(\"*\"*50)\n",
    "Most_Wks(df)"
   ]
  },
  {
   "cell_type": "markdown",
   "metadata": {},
   "source": [
    "#### Kolkata Knight Riders"
   ]
  },
  {
   "cell_type": "code",
   "execution_count": null,
   "metadata": {},
   "outputs": [],
   "source": [
    "kkr=pd.read_csv(r'C:\\Users\\vinodhkumarb\\Desktop\\IPL\\kkr.csv')\n",
    "df=clean_(kkr)"
   ]
  },
  {
   "cell_type": "code",
   "execution_count": null,
   "metadata": {},
   "outputs": [],
   "source": [
    "print(\"Distribution of left and right hander in the team \")\n",
    "print(\"*\"*50)\n",
    "Batting_hand(df)\n",
    "\n",
    "print(\"Key skill distribution\")\n",
    "print(\"*\"*50)\n",
    "skill_distribution(df)\n",
    "\n",
    "print(\"Age factor\")\n",
    "print(\"*\"*50)\n",
    "Age_distribution(df)\n",
    "\n",
    "print(\"Bowling variety available\")\n",
    "print(\"*\"*50)\n",
    "Bowling_variation(df)"
   ]
  },
  {
   "cell_type": "code",
   "execution_count": null,
   "metadata": {},
   "outputs": [],
   "source": [
    "print(\"Most match played\")\n",
    "print(\"*\"*50)\n",
    "most_match(df)\n",
    "\n",
    "\n",
    "print(\"Top Run scorers\")\n",
    "print(\"*\"*50)\n",
    "Most_runs(df)\n",
    "\n",
    "\n",
    "print(\"Top best players with the best strikerate\")\n",
    "print(\"*\"*50)\n",
    "Bat_strike(df)\n",
    "\n",
    "\n",
    "print(\"Top 5 Best Bowling Average\")\n",
    "print(\"*\"*50)\n",
    "Bowling_Ave(df)\n",
    "\n",
    "\n",
    "print(\"Top 5 Best economy rate\")\n",
    "print(\"*\"*50)\n",
    "Best_eco(df)\n",
    "\n",
    "\n",
    "print(\"Top 5 most wicket in the team\")\n",
    "print(\"*\"*50)\n",
    "Most_Wks(df)"
   ]
  },
  {
   "cell_type": "markdown",
   "metadata": {},
   "source": [
    "#### Sunrisers Hyderabad"
   ]
  },
  {
   "cell_type": "code",
   "execution_count": null,
   "metadata": {},
   "outputs": [],
   "source": [
    "srh=pd.read_csv(r'C:\\Users\\vinodhkumarb\\Desktop\\IPL\\srh.csv')\n",
    "df=clean_(srh)"
   ]
  },
  {
   "cell_type": "code",
   "execution_count": null,
   "metadata": {},
   "outputs": [],
   "source": [
    "print(\"Distribution of left and right hander in the team \")\n",
    "print(\"*\"*50)\n",
    "Batting_hand(df)\n",
    "\n",
    "print(\"Key skill distribution\")\n",
    "print(\"*\"*50)\n",
    "skill_distribution(df)\n",
    "\n",
    "print(\"Age factor\")\n",
    "print(\"*\"*50)\n",
    "Age_distribution(df)\n",
    "\n",
    "print(\"Bowling variety available\")\n",
    "print(\"*\"*50)\n",
    "Bowling_variation(df)"
   ]
  },
  {
   "cell_type": "code",
   "execution_count": null,
   "metadata": {},
   "outputs": [],
   "source": [
    "print(\"Most match played\")\n",
    "print(\"*\"*50)\n",
    "most_match(df)\n",
    "\n",
    "\n",
    "print(\"Top Run scorers\")\n",
    "print(\"*\"*50)\n",
    "Most_runs(df)\n",
    "\n",
    "\n",
    "print(\"Top best players with the best strikerate\")\n",
    "print(\"*\"*50)\n",
    "Bat_strike(df)\n",
    "\n",
    "\n",
    "print(\"Top 5 Best Bowling Average\")\n",
    "print(\"*\"*50)\n",
    "Bowling_Ave(df)\n",
    "\n",
    "\n",
    "print(\"Top 5 Best economy rate\")\n",
    "print(\"*\"*50)\n",
    "Best_eco(df)\n",
    "\n",
    "\n",
    "print(\"Top 5 most wicket in the team\")\n",
    "print(\"*\"*50)\n",
    "Most_Wks(df)"
   ]
  },
  {
   "cell_type": "markdown",
   "metadata": {},
   "source": [
    "#### Kings XI Punjab"
   ]
  },
  {
   "cell_type": "code",
   "execution_count": null,
   "metadata": {},
   "outputs": [],
   "source": [
    "kxip=pd.read_csv(r'C:\\Users\\vinodhkumarb\\Desktop\\IPL\\kxip.csv')\n",
    "df=clean_(kxip)"
   ]
  },
  {
   "cell_type": "code",
   "execution_count": null,
   "metadata": {},
   "outputs": [],
   "source": [
    "print(\"Distribution of left and right hander in the team \")\n",
    "print(\"*\"*50)\n",
    "Batting_hand(df)\n",
    "\n",
    "print(\"Key skill distribution\")\n",
    "print(\"*\"*50)\n",
    "skill_distribution(df)\n",
    "\n",
    "print(\"Age factor\")\n",
    "print(\"*\"*50)\n",
    "Age_distribution(df)\n",
    "\n",
    "print(\"Bowling variety available\")\n",
    "print(\"*\"*50)\n",
    "Bowling_variation(df)"
   ]
  },
  {
   "cell_type": "code",
   "execution_count": null,
   "metadata": {},
   "outputs": [],
   "source": [
    "print(\"Most match played\")\n",
    "print(\"*\"*50)\n",
    "most_match(df)\n",
    "\n",
    "\n",
    "print(\"Top Run scorers\")\n",
    "print(\"*\"*50)\n",
    "Most_runs(df)\n",
    "\n",
    "\n",
    "print(\"Top best players with the best strikerate\")\n",
    "print(\"*\"*50)\n",
    "Bat_strike(df)\n",
    "\n",
    "\n",
    "print(\"Top 5 Best Bowling Average\")\n",
    "print(\"*\"*50)\n",
    "Bowling_Ave(df)\n",
    "\n",
    "\n",
    "print(\"Top 5 Best economy rate\")\n",
    "print(\"*\"*50)\n",
    "Best_eco(df)\n",
    "\n",
    "\n",
    "print(\"Top 5 most wicket in the team\")\n",
    "print(\"*\"*50)\n",
    "Most_Wks(df)"
   ]
  },
  {
   "cell_type": "markdown",
   "metadata": {},
   "source": [
    "#### Rajasthan Royals"
   ]
  },
  {
   "cell_type": "code",
   "execution_count": null,
   "metadata": {},
   "outputs": [],
   "source": [
    "rr=pd.read_csv(r'C:\\Users\\vinodhkumarb\\Desktop\\IPL\\rr.csv')\n",
    "df=clean_(rr)"
   ]
  },
  {
   "cell_type": "code",
   "execution_count": null,
   "metadata": {},
   "outputs": [],
   "source": [
    "print(\"Distribution of left and right hander in the team \")\n",
    "print(\"*\"*50)\n",
    "Batting_hand(df)\n",
    "\n",
    "print(\"Key skill distribution\")\n",
    "print(\"*\"*50)\n",
    "skill_distribution(df)\n",
    "\n",
    "print(\"Age factor\")\n",
    "print(\"*\"*50)\n",
    "Age_distribution(df)\n",
    "\n",
    "print(\"Bowling variety available\")\n",
    "print(\"*\"*50)\n",
    "Bowling_variation(df)"
   ]
  },
  {
   "cell_type": "code",
   "execution_count": null,
   "metadata": {},
   "outputs": [],
   "source": [
    "print(\"Most match played\")\n",
    "print(\"*\"*50)\n",
    "most_match(df)\n",
    "\n",
    "\n",
    "print(\"Top Run scorers\")\n",
    "print(\"*\"*50)\n",
    "Most_runs(df)\n",
    "\n",
    "\n",
    "print(\"Top best players with the best strikerate\")\n",
    "print(\"*\"*50)\n",
    "Bat_strike(df)\n",
    "\n",
    "\n",
    "print(\"Top 5 Best Bowling Average\")\n",
    "print(\"*\"*50)\n",
    "Bowling_Ave(df)\n",
    "\n",
    "\n",
    "print(\"Top 5 Best economy rate\")\n",
    "print(\"*\"*50)\n",
    "Best_eco(df)\n",
    "\n",
    "\n",
    "print(\"Top 5 most wicket in the team\")\n",
    "print(\"*\"*50)\n",
    "Most_Wks(df)"
   ]
  },
  {
   "cell_type": "markdown",
   "metadata": {},
   "source": [
    "#### Delhi Capitals"
   ]
  },
  {
   "cell_type": "code",
   "execution_count": null,
   "metadata": {},
   "outputs": [],
   "source": [
    "dc=pd.read_csv(r'C:\\Users\\vinodhkumarb\\Desktop\\IPL\\dc.csv')\n",
    "df=clean_(dc)"
   ]
  },
  {
   "cell_type": "code",
   "execution_count": null,
   "metadata": {},
   "outputs": [],
   "source": [
    "print(\"Distribution of left and right hander in the team \")\n",
    "print(\"*\"*50)\n",
    "Batting_hand(df)\n",
    "\n",
    "print(\"Key skill distribution\")\n",
    "print(\"*\"*50)\n",
    "skill_distribution(df)\n",
    "\n",
    "print(\"Age factor\")\n",
    "print(\"*\"*50)\n",
    "Age_distribution(df)\n",
    "\n",
    "print(\"Bowling variety available\")\n",
    "print(\"*\"*50)\n",
    "Bowling_variation(df)"
   ]
  },
  {
   "cell_type": "code",
   "execution_count": null,
   "metadata": {},
   "outputs": [],
   "source": [
    "print(\"Most match played\")\n",
    "print(\"*\"*50)\n",
    "most_match(df)\n",
    "\n",
    "\n",
    "print(\"Top Run scorers\")\n",
    "print(\"*\"*50)\n",
    "Most_runs(mi)\n",
    "\n",
    "\n",
    "print(\"Top best players with the best strikerate\")\n",
    "print(\"*\"*50)\n",
    "Bat_strike(df)\n",
    "\n",
    "\n",
    "print(\"Top 5 Best Bowling Average\")\n",
    "print(\"*\"*50)\n",
    "Bowling_Ave(df)\n",
    "\n",
    "\n",
    "print(\"Top 5 Best economy rate\")\n",
    "print(\"*\"*50)\n",
    "Best_eco(df)\n",
    "\n",
    "\n",
    "print(\"Top 5 most wicket in the team\")\n",
    "print(\"*\"*50)\n",
    "Most_Wks(df)"
   ]
  }
 ],
 "metadata": {
  "kernelspec": {
   "display_name": "Python 3",
   "language": "python",
   "name": "python3"
  },
  "language_info": {
   "codemirror_mode": {
    "name": "ipython",
    "version": 3
   },
   "file_extension": ".py",
   "mimetype": "text/x-python",
   "name": "python",
   "nbconvert_exporter": "python",
   "pygments_lexer": "ipython3",
   "version": "3.7.3"
  }
 },
 "nbformat": 4,
 "nbformat_minor": 4
}
